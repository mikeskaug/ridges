{
 "cells": [
  {
   "cell_type": "code",
   "execution_count": 41,
   "metadata": {},
   "outputs": [],
   "source": [
    "import os\n",
    "import sys\n",
    "import math\n",
    "from datetime import datetime\n",
    "from functools import partial\n",
    "\n",
    "from dotenv import load_dotenv, find_dotenv\n",
    "load_dotenv(find_dotenv())\n",
    "\n",
    "import numpy as np\n",
    "import seaborn as sns\n",
    "import matplotlib.pyplot as plt\n",
    "from PIL import Image\n",
    "import tensorflow as tf\n",
    "from tensorflow.keras.layers import Input\n",
    "from tensorflow.keras.optimizers import Adam\n",
    "from tensorflow.keras.callbacks import TensorBoard, ModelCheckpoint\n",
    "\n",
    "from src.models import HED\n",
    "from src.losses import balanced_cross_entropy\n",
    "from src.metrics import dice_coefficient, iou, accuracy\n",
    "from src.dataset import CustomImageDataGenerator, standardize_batch, load_subset\n",
    "from src.config import *\n",
    "\n",
    "ELEVATION_TIF_DIR = '/Users/mikeskaug/Documents/personal/ridges/data/high_ridge_terrain/Colorado/manual/tif'\n",
    "MASK_TIF_DIR = '/Users/mikeskaug/Documents/personal/ridges/data/high_ridge_terrain/Colorado/manual/mask'"
   ]
  },
  {
   "cell_type": "code",
   "execution_count": 22,
   "metadata": {},
   "outputs": [],
   "source": [
    "def compile_callbacks(\n",
    "        logs_dir=os.path.join(LOGS_DIR, datetime.now().isoformat(timespec='minutes')), \n",
    "        checkpoint_dir=os.path.join(CHECKPOINT_DIR, datetime.now().isoformat(timespec='minutes'))\n",
    "    ):\n",
    "    if not os.path.isdir(logs_dir):\n",
    "        os.mkdir(logs_dir)\n",
    "    if not os.path.isdir(checkpoint_dir):\n",
    "        os.mkdir(checkpoint_dir)\n",
    "    return [\n",
    "        TensorBoard(\n",
    "            log_dir=os.path.join(logs_dir),\n",
    "            histogram_freq=1,\n",
    "            update_freq='epoch',\n",
    "            write_graph=False,\n",
    "            write_images=False,\n",
    "            profile_batch=0\n",
    "        ),\n",
    "        ModelCheckpoint(\n",
    "            os.path.join(checkpoint_dir, 'weights.{epoch:02d}-{val_loss:.2f}.hdf5'), \n",
    "            verbose=1,\n",
    "            save_freq='epoch',\n",
    "            save_best_only=False, \n",
    "            save_weights_only=True\n",
    "        )\n",
    "    \n",
    "    ]"
   ]
  },
  {
   "cell_type": "markdown",
   "metadata": {},
   "source": [
    "# Load trained model"
   ]
  },
  {
   "cell_type": "code",
   "execution_count": 9,
   "metadata": {},
   "outputs": [],
   "source": [
    "input_img = Input((*IMAGE_SIZE, 1), name='img')\n",
    "model = HED(input_img)\n",
    "model.load_weights('/Users/mikeskaug/Documents/personal/ridges/output/checkpoint/2020-04-24T04:01/weights.02-0.13.hdf5')"
   ]
  },
  {
   "cell_type": "markdown",
   "metadata": {},
   "source": [
    "# Fine tune on small, manually labeled set"
   ]
  },
  {
   "cell_type": "code",
   "execution_count": 10,
   "metadata": {},
   "outputs": [],
   "source": [
    "model.compile(loss={'o1': balanced_cross_entropy,\n",
    "                        'o2': balanced_cross_entropy,\n",
    "                        'o3': balanced_cross_entropy,\n",
    "                        'o4': balanced_cross_entropy,\n",
    "                        'ofuse': balanced_cross_entropy,\n",
    "                        },\n",
    "                  metrics={'ofuse': ['accuracy', dice_coefficient]},\n",
    "                  optimizer=Adam(learning_rate=0.0001))"
   ]
  },
  {
   "cell_type": "code",
   "execution_count": 14,
   "metadata": {},
   "outputs": [],
   "source": [
    "validation_fraction = 0.3\n",
    "batch_size = 8\n",
    "subset = load_subset(ELEVATION_TIF_DIR, frac=1)\n",
    "featurewise_std = subset.std()\n",
    "\n",
    "files = os.listdir(ELEVATION_TIF_DIR)\n",
    "np.random.shuffle(files)\n",
    "train_files = files[:int(len(files)*(1-validation_fraction))]\n",
    "validation_files = files[int(len(files)*(1-validation_fraction)):]\n",
    "\n",
    "training_generator = CustomImageDataGenerator(\n",
    "    ELEVATION_TIF_DIR, \n",
    "    MASK_TIF_DIR, \n",
    "    train_files, \n",
    "    batch_size=batch_size, \n",
    "    standardize_batch=partial(standardize_batch, featurewise_std), \n",
    "    rescale_y=1/255,\n",
    "    n_outputs=5\n",
    ")\n",
    "\n",
    "validation_generator = CustomImageDataGenerator(\n",
    "    ELEVATION_TIF_DIR, \n",
    "    MASK_TIF_DIR, \n",
    "    validation_files, \n",
    "    batch_size=len(validation_files)*8, \n",
    "    standardize_batch=partial(standardize_batch, featurewise_std), \n",
    "    rescale_y=1/255,\n",
    "    n_outputs=5\n",
    ")\n",
    "validation_data = validation_generator.__getitem__(0)"
   ]
  },
  {
   "cell_type": "code",
   "execution_count": 26,
   "metadata": {
    "scrolled": true
   },
   "outputs": [
    {
     "name": "stdout",
     "output_type": "stream",
     "text": [
      "Train for 7 steps, validate on 24 samples\n",
      "Epoch 1/50\n",
      "6/7 [========================>.....] - ETA: 7s - loss: 0.1638 - o1_loss: 0.0386 - o2_loss: 0.0311 - o3_loss: 0.0293 - o4_loss: 0.0358 - ofuse_loss: 0.0289 - ofuse_accuracy: 0.9008 - ofuse_dice_coefficient: 0.3137 \n",
      "Epoch 00001: saving model to /Users/mikeskaug/Documents/personal/ridges/output/checkpoint/2020-06-18T21:32/weights.01-0.10.hdf5\n",
      "7/7 [==============================] - 60s 9s/step - loss: 0.1630 - o1_loss: 0.0383 - o2_loss: 0.0310 - o3_loss: 0.0291 - o4_loss: 0.0356 - ofuse_loss: 0.0288 - ofuse_accuracy: 0.9022 - ofuse_dice_coefficient: 0.3190 - val_loss: 0.0981 - val_o1_loss: 0.0231 - val_o2_loss: 0.0171 - val_o3_loss: 0.0187 - val_o4_loss: 0.0223 - val_ofuse_loss: 0.0167 - val_ofuse_accuracy: 0.9382 - val_ofuse_dice_coefficient: 0.3375\n",
      "Epoch 2/50\n",
      "6/7 [========================>.....] - ETA: 7s - loss: 0.1431 - o1_loss: 0.0358 - o2_loss: 0.0262 - o3_loss: 0.0249 - o4_loss: 0.0319 - ofuse_loss: 0.0241 - ofuse_accuracy: 0.9181 - ofuse_dice_coefficient: 0.3416 \n",
      "Epoch 00002: saving model to /Users/mikeskaug/Documents/personal/ridges/output/checkpoint/2020-06-18T21:32/weights.02-0.09.hdf5\n",
      "7/7 [==============================] - 60s 9s/step - loss: 0.1430 - o1_loss: 0.0357 - o2_loss: 0.0263 - o3_loss: 0.0248 - o4_loss: 0.0319 - ofuse_loss: 0.0242 - ofuse_accuracy: 0.9189 - ofuse_dice_coefficient: 0.3462 - val_loss: 0.0888 - val_o1_loss: 0.0231 - val_o2_loss: 0.0156 - val_o3_loss: 0.0157 - val_o4_loss: 0.0202 - val_ofuse_loss: 0.0142 - val_ofuse_accuracy: 0.9485 - val_ofuse_dice_coefficient: 0.3604\n",
      "Epoch 3/50\n",
      "6/7 [========================>.....] - ETA: 7s - loss: 0.1310 - o1_loss: 0.0341 - o2_loss: 0.0238 - o3_loss: 0.0222 - o4_loss: 0.0295 - ofuse_loss: 0.0214 - ofuse_accuracy: 0.9315 - ofuse_dice_coefficient: 0.3625 \n",
      "Epoch 00003: saving model to /Users/mikeskaug/Documents/personal/ridges/output/checkpoint/2020-06-18T21:32/weights.03-0.08.hdf5\n",
      "7/7 [==============================] - 59s 8s/step - loss: 0.1311 - o1_loss: 0.0340 - o2_loss: 0.0238 - o3_loss: 0.0222 - o4_loss: 0.0295 - ofuse_loss: 0.0215 - ofuse_accuracy: 0.9317 - ofuse_dice_coefficient: 0.3664 - val_loss: 0.0829 - val_o1_loss: 0.0221 - val_o2_loss: 0.0148 - val_o3_loss: 0.0140 - val_o4_loss: 0.0189 - val_ofuse_loss: 0.0129 - val_ofuse_accuracy: 0.9558 - val_ofuse_dice_coefficient: 0.3775\n",
      "Epoch 4/50\n",
      "6/7 [========================>.....] - ETA: 7s - loss: 0.1247 - o1_loss: 0.0332 - o2_loss: 0.0227 - o3_loss: 0.0207 - o4_loss: 0.0279 - ofuse_loss: 0.0201 - ofuse_accuracy: 0.9395 - ofuse_dice_coefficient: 0.3745 \n",
      "Epoch 00004: saving model to /Users/mikeskaug/Documents/personal/ridges/output/checkpoint/2020-06-18T21:32/weights.04-0.08.hdf5\n",
      "7/7 [==============================] - 59s 8s/step - loss: 0.1250 - o1_loss: 0.0331 - o2_loss: 0.0228 - o3_loss: 0.0208 - o4_loss: 0.0280 - ofuse_loss: 0.0202 - ofuse_accuracy: 0.9393 - ofuse_dice_coefficient: 0.3780 - val_loss: 0.0803 - val_o1_loss: 0.0215 - val_o2_loss: 0.0145 - val_o3_loss: 0.0136 - val_o4_loss: 0.0182 - val_ofuse_loss: 0.0124 - val_ofuse_accuracy: 0.9592 - val_ofuse_dice_coefficient: 0.3832\n",
      "Epoch 5/50\n",
      "6/7 [========================>.....] - ETA: 7s - loss: 0.1215 - o1_loss: 0.0324 - o2_loss: 0.0223 - o3_loss: 0.0202 - o4_loss: 0.0269 - ofuse_loss: 0.0195 - ofuse_accuracy: 0.9432 - ofuse_dice_coefficient: 0.3797 \n",
      "Epoch 00005: saving model to /Users/mikeskaug/Documents/personal/ridges/output/checkpoint/2020-06-18T21:32/weights.05-0.08.hdf5\n",
      "7/7 [==============================] - 59s 8s/step - loss: 0.1219 - o1_loss: 0.0323 - o2_loss: 0.0224 - o3_loss: 0.0203 - o4_loss: 0.0271 - ofuse_loss: 0.0197 - ofuse_accuracy: 0.9427 - ofuse_dice_coefficient: 0.3831 - val_loss: 0.0792 - val_o1_loss: 0.0216 - val_o2_loss: 0.0142 - val_o3_loss: 0.0134 - val_o4_loss: 0.0177 - val_ofuse_loss: 0.0122 - val_ofuse_accuracy: 0.9592 - val_ofuse_dice_coefficient: 0.3813\n",
      "Epoch 6/50\n",
      "6/7 [========================>.....] - ETA: 7s - loss: 0.1194 - o1_loss: 0.0322 - o2_loss: 0.0217 - o3_loss: 0.0199 - o4_loss: 0.0264 - ofuse_loss: 0.0192 - ofuse_accuracy: 0.9440 - ofuse_dice_coefficient: 0.3822 \n",
      "Epoch 00006: saving model to /Users/mikeskaug/Documents/personal/ridges/output/checkpoint/2020-06-18T21:32/weights.06-0.08.hdf5\n",
      "7/7 [==============================] - 58s 8s/step - loss: 0.1196 - o1_loss: 0.0321 - o2_loss: 0.0217 - o3_loss: 0.0199 - o4_loss: 0.0265 - ofuse_loss: 0.0193 - ofuse_accuracy: 0.9434 - ofuse_dice_coefficient: 0.3851 - val_loss: 0.0780 - val_o1_loss: 0.0215 - val_o2_loss: 0.0137 - val_o3_loss: 0.0131 - val_o4_loss: 0.0175 - val_ofuse_loss: 0.0120 - val_ofuse_accuracy: 0.9579 - val_ofuse_dice_coefficient: 0.3792\n",
      "Epoch 7/50\n",
      "6/7 [========================>.....] - ETA: 7s - loss: 0.1175 - o1_loss: 0.0317 - o2_loss: 0.0213 - o3_loss: 0.0195 - o4_loss: 0.0260 - ofuse_loss: 0.0189 - ofuse_accuracy: 0.9437 - ofuse_dice_coefficient: 0.3831 \n",
      "Epoch 00007: saving model to /Users/mikeskaug/Documents/personal/ridges/output/checkpoint/2020-06-18T21:32/weights.07-0.08.hdf5\n",
      "7/7 [==============================] - 59s 8s/step - loss: 0.1180 - o1_loss: 0.0317 - o2_loss: 0.0214 - o3_loss: 0.0196 - o4_loss: 0.0261 - ofuse_loss: 0.0190 - ofuse_accuracy: 0.9428 - ofuse_dice_coefficient: 0.3854 - val_loss: 0.0772 - val_o1_loss: 0.0214 - val_o2_loss: 0.0135 - val_o3_loss: 0.0130 - val_o4_loss: 0.0173 - val_ofuse_loss: 0.0119 - val_ofuse_accuracy: 0.9566 - val_ofuse_dice_coefficient: 0.3780\n",
      "Epoch 8/50\n",
      "6/7 [========================>.....] - ETA: 7s - loss: 0.1160 - o1_loss: 0.0314 - o2_loss: 0.0210 - o3_loss: 0.0192 - o4_loss: 0.0257 - ofuse_loss: 0.0186 - ofuse_accuracy: 0.9431 - ofuse_dice_coefficient: 0.3829 \n",
      "Epoch 00008: saving model to /Users/mikeskaug/Documents/personal/ridges/output/checkpoint/2020-06-18T21:32/weights.08-0.08.hdf5\n",
      "7/7 [==============================] - 60s 9s/step - loss: 0.1164 - o1_loss: 0.0314 - o2_loss: 0.0211 - o3_loss: 0.0193 - o4_loss: 0.0259 - ofuse_loss: 0.0187 - ofuse_accuracy: 0.9424 - ofuse_dice_coefficient: 0.3855 - val_loss: 0.0769 - val_o1_loss: 0.0214 - val_o2_loss: 0.0135 - val_o3_loss: 0.0129 - val_o4_loss: 0.0172 - val_ofuse_loss: 0.0119 - val_ofuse_accuracy: 0.9555 - val_ofuse_dice_coefficient: 0.3759\n",
      "Epoch 9/50\n",
      "6/7 [========================>.....] - ETA: 8s - loss: 0.1149 - o1_loss: 0.0314 - o2_loss: 0.0208 - o3_loss: 0.0189 - o4_loss: 0.0254 - ofuse_loss: 0.0183 - ofuse_accuracy: 0.9434 - ofuse_dice_coefficient: 0.3850 \n",
      "Epoch 00009: saving model to /Users/mikeskaug/Documents/personal/ridges/output/checkpoint/2020-06-18T21:32/weights.09-0.08.hdf5\n",
      "7/7 [==============================] - 63s 9s/step - loss: 0.1153 - o1_loss: 0.0313 - o2_loss: 0.0208 - o3_loss: 0.0190 - o4_loss: 0.0256 - ofuse_loss: 0.0185 - ofuse_accuracy: 0.9428 - ofuse_dice_coefficient: 0.3879 - val_loss: 0.0762 - val_o1_loss: 0.0210 - val_o2_loss: 0.0134 - val_o3_loss: 0.0129 - val_o4_loss: 0.0170 - val_ofuse_loss: 0.0118 - val_ofuse_accuracy: 0.9557 - val_ofuse_dice_coefficient: 0.3766\n",
      "Epoch 10/50\n",
      "6/7 [========================>.....] - ETA: 8s - loss: 0.1142 - o1_loss: 0.0312 - o2_loss: 0.0206 - o3_loss: 0.0188 - o4_loss: 0.0253 - ofuse_loss: 0.0182 - ofuse_accuracy: 0.9437 - ofuse_dice_coefficient: 0.3848 \n",
      "Epoch 00010: saving model to /Users/mikeskaug/Documents/personal/ridges/output/checkpoint/2020-06-18T21:32/weights.10-0.08.hdf5\n",
      "7/7 [==============================] - 65s 9s/step - loss: 0.1146 - o1_loss: 0.0311 - o2_loss: 0.0207 - o3_loss: 0.0189 - o4_loss: 0.0255 - ofuse_loss: 0.0183 - ofuse_accuracy: 0.9431 - ofuse_dice_coefficient: 0.3877 - val_loss: 0.0756 - val_o1_loss: 0.0208 - val_o2_loss: 0.0133 - val_o3_loss: 0.0127 - val_o4_loss: 0.0169 - val_ofuse_loss: 0.0117 - val_ofuse_accuracy: 0.9557 - val_ofuse_dice_coefficient: 0.3776\n",
      "Epoch 11/50\n",
      "6/7 [========================>.....] - ETA: 8s - loss: 0.1133 - o1_loss: 0.0312 - o2_loss: 0.0204 - o3_loss: 0.0185 - o4_loss: 0.0251 - ofuse_loss: 0.0180 - ofuse_accuracy: 0.9444 - ofuse_dice_coefficient: 0.3870 \n",
      "Epoch 00011: saving model to /Users/mikeskaug/Documents/personal/ridges/output/checkpoint/2020-06-18T21:32/weights.11-0.07.hdf5\n",
      "7/7 [==============================] - 63s 9s/step - loss: 0.1138 - o1_loss: 0.0311 - o2_loss: 0.0205 - o3_loss: 0.0186 - o4_loss: 0.0253 - ofuse_loss: 0.0182 - ofuse_accuracy: 0.9437 - ofuse_dice_coefficient: 0.3895 - val_loss: 0.0748 - val_o1_loss: 0.0205 - val_o2_loss: 0.0132 - val_o3_loss: 0.0126 - val_o4_loss: 0.0168 - val_ofuse_loss: 0.0116 - val_ofuse_accuracy: 0.9565 - val_ofuse_dice_coefficient: 0.3809\n",
      "Epoch 12/50\n",
      "6/7 [========================>.....] - ETA: 7s - loss: 0.1128 - o1_loss: 0.0310 - o2_loss: 0.0203 - o3_loss: 0.0184 - o4_loss: 0.0250 - ofuse_loss: 0.0179 - ofuse_accuracy: 0.9447 - ofuse_dice_coefficient: 0.3882 \n",
      "Epoch 00012: saving model to /Users/mikeskaug/Documents/personal/ridges/output/checkpoint/2020-06-18T21:32/weights.12-0.07.hdf5\n",
      "7/7 [==============================] - 62s 9s/step - loss: 0.1132 - o1_loss: 0.0310 - o2_loss: 0.0203 - o3_loss: 0.0185 - o4_loss: 0.0252 - ofuse_loss: 0.0181 - ofuse_accuracy: 0.9442 - ofuse_dice_coefficient: 0.3913 - val_loss: 0.0743 - val_o1_loss: 0.0203 - val_o2_loss: 0.0132 - val_o3_loss: 0.0125 - val_o4_loss: 0.0167 - val_ofuse_loss: 0.0116 - val_ofuse_accuracy: 0.9572 - val_ofuse_dice_coefficient: 0.3842\n",
      "Epoch 13/50\n",
      "6/7 [========================>.....] - ETA: 7s - loss: 0.1121 - o1_loss: 0.0310 - o2_loss: 0.0201 - o3_loss: 0.0182 - o4_loss: 0.0248 - ofuse_loss: 0.0178 - ofuse_accuracy: 0.9452 - ofuse_dice_coefficient: 0.3903 \n",
      "Epoch 00013: saving model to /Users/mikeskaug/Documents/personal/ridges/output/checkpoint/2020-06-18T21:32/weights.13-0.07.hdf5\n",
      "7/7 [==============================] - 61s 9s/step - loss: 0.1125 - o1_loss: 0.0309 - o2_loss: 0.0202 - o3_loss: 0.0183 - o4_loss: 0.0250 - ofuse_loss: 0.0179 - ofuse_accuracy: 0.9446 - ofuse_dice_coefficient: 0.3930 - val_loss: 0.0740 - val_o1_loss: 0.0202 - val_o2_loss: 0.0131 - val_o3_loss: 0.0124 - val_o4_loss: 0.0166 - val_ofuse_loss: 0.0115 - val_ofuse_accuracy: 0.9572 - val_ofuse_dice_coefficient: 0.3863\n",
      "Epoch 14/50\n",
      "6/7 [========================>.....] - ETA: 7s - loss: 0.1115 - o1_loss: 0.0309 - o2_loss: 0.0199 - o3_loss: 0.0181 - o4_loss: 0.0248 - ofuse_loss: 0.0177 - ofuse_accuracy: 0.9459 - ofuse_dice_coefficient: 0.3926 \n",
      "Epoch 00014: saving model to /Users/mikeskaug/Documents/personal/ridges/output/checkpoint/2020-06-18T21:32/weights.14-0.07.hdf5\n",
      "7/7 [==============================] - 63s 9s/step - loss: 0.1121 - o1_loss: 0.0309 - o2_loss: 0.0201 - o3_loss: 0.0183 - o4_loss: 0.0250 - ofuse_loss: 0.0178 - ofuse_accuracy: 0.9453 - ofuse_dice_coefficient: 0.3952 - val_loss: 0.0734 - val_o1_loss: 0.0200 - val_o2_loss: 0.0131 - val_o3_loss: 0.0122 - val_o4_loss: 0.0165 - val_ofuse_loss: 0.0114 - val_ofuse_accuracy: 0.9579 - val_ofuse_dice_coefficient: 0.3886\n",
      "Epoch 15/50\n",
      "6/7 [========================>.....] - ETA: 7s - loss: 0.1111 - o1_loss: 0.0308 - o2_loss: 0.0199 - o3_loss: 0.0180 - o4_loss: 0.0247 - ofuse_loss: 0.0175 - ofuse_accuracy: 0.9456 - ofuse_dice_coefficient: 0.3921 \n",
      "Epoch 00015: saving model to /Users/mikeskaug/Documents/personal/ridges/output/checkpoint/2020-06-18T21:32/weights.15-0.07.hdf5\n",
      "7/7 [==============================] - 61s 9s/step - loss: 0.1115 - o1_loss: 0.0307 - o2_loss: 0.0200 - o3_loss: 0.0181 - o4_loss: 0.0248 - ofuse_loss: 0.0177 - ofuse_accuracy: 0.9449 - ofuse_dice_coefficient: 0.3948 - val_loss: 0.0733 - val_o1_loss: 0.0201 - val_o2_loss: 0.0130 - val_o3_loss: 0.0122 - val_o4_loss: 0.0164 - val_ofuse_loss: 0.0114 - val_ofuse_accuracy: 0.9575 - val_ofuse_dice_coefficient: 0.3879\n",
      "Epoch 16/50\n",
      "6/7 [========================>.....] - ETA: 7s - loss: 0.1104 - o1_loss: 0.0307 - o2_loss: 0.0198 - o3_loss: 0.0179 - o4_loss: 0.0245 - ofuse_loss: 0.0174 - ofuse_accuracy: 0.9453 - ofuse_dice_coefficient: 0.3924 \n",
      "Epoch 00016: saving model to /Users/mikeskaug/Documents/personal/ridges/output/checkpoint/2020-06-18T21:32/weights.16-0.07.hdf5\n",
      "7/7 [==============================] - 60s 9s/step - loss: 0.1110 - o1_loss: 0.0307 - o2_loss: 0.0199 - o3_loss: 0.0180 - o4_loss: 0.0247 - ofuse_loss: 0.0176 - ofuse_accuracy: 0.9447 - ofuse_dice_coefficient: 0.3948 - val_loss: 0.0729 - val_o1_loss: 0.0199 - val_o2_loss: 0.0130 - val_o3_loss: 0.0121 - val_o4_loss: 0.0164 - val_ofuse_loss: 0.0114 - val_ofuse_accuracy: 0.9579 - val_ofuse_dice_coefficient: 0.3898\n",
      "Epoch 17/50\n",
      "6/7 [========================>.....] - ETA: 7s - loss: 0.1099 - o1_loss: 0.0307 - o2_loss: 0.0197 - o3_loss: 0.0177 - o4_loss: 0.0244 - ofuse_loss: 0.0173 - ofuse_accuracy: 0.9458 - ofuse_dice_coefficient: 0.3942 \n",
      "Epoch 00017: saving model to /Users/mikeskaug/Documents/personal/ridges/output/checkpoint/2020-06-18T21:32/weights.17-0.07.hdf5\n",
      "7/7 [==============================] - 61s 9s/step - loss: 0.1104 - o1_loss: 0.0306 - o2_loss: 0.0198 - o3_loss: 0.0179 - o4_loss: 0.0246 - ofuse_loss: 0.0175 - ofuse_accuracy: 0.9453 - ofuse_dice_coefficient: 0.3972 - val_loss: 0.0725 - val_o1_loss: 0.0197 - val_o2_loss: 0.0130 - val_o3_loss: 0.0120 - val_o4_loss: 0.0164 - val_ofuse_loss: 0.0113 - val_ofuse_accuracy: 0.9589 - val_ofuse_dice_coefficient: 0.3933\n",
      "Epoch 18/50\n",
      "6/7 [========================>.....] - ETA: 7s - loss: 0.1101 - o1_loss: 0.0307 - o2_loss: 0.0197 - o3_loss: 0.0178 - o4_loss: 0.0244 - ofuse_loss: 0.0173 - ofuse_accuracy: 0.9465 - ofuse_dice_coefficient: 0.3955 \n",
      "Epoch 00018: saving model to /Users/mikeskaug/Documents/personal/ridges/output/checkpoint/2020-06-18T21:32/weights.18-0.07.hdf5\n",
      "7/7 [==============================] - 59s 8s/step - loss: 0.1105 - o1_loss: 0.0306 - o2_loss: 0.0198 - o3_loss: 0.0179 - o4_loss: 0.0246 - ofuse_loss: 0.0175 - ofuse_accuracy: 0.9460 - ofuse_dice_coefficient: 0.3985 - val_loss: 0.0723 - val_o1_loss: 0.0197 - val_o2_loss: 0.0129 - val_o3_loss: 0.0120 - val_o4_loss: 0.0163 - val_ofuse_loss: 0.0113 - val_ofuse_accuracy: 0.9591 - val_ofuse_dice_coefficient: 0.3945\n",
      "Epoch 19/50\n",
      "6/7 [========================>.....] - ETA: 7s - loss: 0.1092 - o1_loss: 0.0306 - o2_loss: 0.0196 - o3_loss: 0.0176 - o4_loss: 0.0242 - ofuse_loss: 0.0171 - ofuse_accuracy: 0.9466 - ofuse_dice_coefficient: 0.3970 \n",
      "Epoch 00019: saving model to /Users/mikeskaug/Documents/personal/ridges/output/checkpoint/2020-06-18T21:32/weights.19-0.07.hdf5\n",
      "7/7 [==============================] - 60s 9s/step - loss: 0.1097 - o1_loss: 0.0305 - o2_loss: 0.0196 - o3_loss: 0.0177 - o4_loss: 0.0244 - ofuse_loss: 0.0173 - ofuse_accuracy: 0.9460 - ofuse_dice_coefficient: 0.3995 - val_loss: 0.0723 - val_o1_loss: 0.0198 - val_o2_loss: 0.0129 - val_o3_loss: 0.0120 - val_o4_loss: 0.0163 - val_ofuse_loss: 0.0113 - val_ofuse_accuracy: 0.9589 - val_ofuse_dice_coefficient: 0.3941\n",
      "Epoch 20/50\n",
      "6/7 [========================>.....] - ETA: 7s - loss: 0.1089 - o1_loss: 0.0307 - o2_loss: 0.0195 - o3_loss: 0.0175 - o4_loss: 0.0241 - ofuse_loss: 0.0170 - ofuse_accuracy: 0.9461 - ofuse_dice_coefficient: 0.3963 \n",
      "Epoch 00020: saving model to /Users/mikeskaug/Documents/personal/ridges/output/checkpoint/2020-06-18T21:32/weights.20-0.07.hdf5\n",
      "7/7 [==============================] - 57s 8s/step - loss: 0.1095 - o1_loss: 0.0306 - o2_loss: 0.0196 - o3_loss: 0.0176 - o4_loss: 0.0243 - ofuse_loss: 0.0172 - ofuse_accuracy: 0.9455 - ofuse_dice_coefficient: 0.3992 - val_loss: 0.0720 - val_o1_loss: 0.0197 - val_o2_loss: 0.0129 - val_o3_loss: 0.0119 - val_o4_loss: 0.0162 - val_ofuse_loss: 0.0112 - val_ofuse_accuracy: 0.9594 - val_ofuse_dice_coefficient: 0.3965\n",
      "Epoch 21/50\n",
      "6/7 [========================>.....] - ETA: 7s - loss: 0.1086 - o1_loss: 0.0307 - o2_loss: 0.0194 - o3_loss: 0.0174 - o4_loss: 0.0240 - ofuse_loss: 0.0170 - ofuse_accuracy: 0.9472 - ofuse_dice_coefficient: 0.3994 \n",
      "Epoch 00021: saving model to /Users/mikeskaug/Documents/personal/ridges/output/checkpoint/2020-06-18T21:32/weights.21-0.07.hdf5\n",
      "7/7 [==============================] - 57s 8s/step - loss: 0.1093 - o1_loss: 0.0306 - o2_loss: 0.0195 - o3_loss: 0.0176 - o4_loss: 0.0242 - ofuse_loss: 0.0172 - ofuse_accuracy: 0.9465 - ofuse_dice_coefficient: 0.4018 - val_loss: 0.0718 - val_o1_loss: 0.0197 - val_o2_loss: 0.0128 - val_o3_loss: 0.0119 - val_o4_loss: 0.0162 - val_ofuse_loss: 0.0112 - val_ofuse_accuracy: 0.9601 - val_ofuse_dice_coefficient: 0.3988\n",
      "Epoch 22/50\n",
      "6/7 [========================>.....] - ETA: 7s - loss: 0.1086 - o1_loss: 0.0306 - o2_loss: 0.0195 - o3_loss: 0.0175 - o4_loss: 0.0240 - ofuse_loss: 0.0170 - ofuse_accuracy: 0.9467 - ofuse_dice_coefficient: 0.3982 \n",
      "Epoch 00022: saving model to /Users/mikeskaug/Documents/personal/ridges/output/checkpoint/2020-06-18T21:32/weights.22-0.07.hdf5\n",
      "7/7 [==============================] - 57s 8s/step - loss: 0.1090 - o1_loss: 0.0305 - o2_loss: 0.0195 - o3_loss: 0.0176 - o4_loss: 0.0242 - ofuse_loss: 0.0171 - ofuse_accuracy: 0.9462 - ofuse_dice_coefficient: 0.4010 - val_loss: 0.0719 - val_o1_loss: 0.0197 - val_o2_loss: 0.0129 - val_o3_loss: 0.0119 - val_o4_loss: 0.0161 - val_ofuse_loss: 0.0112 - val_ofuse_accuracy: 0.9601 - val_ofuse_dice_coefficient: 0.3990\n",
      "Epoch 23/50\n",
      "6/7 [========================>.....] - ETA: 7s - loss: 0.1082 - o1_loss: 0.0306 - o2_loss: 0.0194 - o3_loss: 0.0174 - o4_loss: 0.0239 - ofuse_loss: 0.0169 - ofuse_accuracy: 0.9473 - ofuse_dice_coefficient: 0.3991 \n",
      "Epoch 00023: saving model to /Users/mikeskaug/Documents/personal/ridges/output/checkpoint/2020-06-18T21:32/weights.23-0.07.hdf5\n",
      "7/7 [==============================] - 57s 8s/step - loss: 0.1086 - o1_loss: 0.0305 - o2_loss: 0.0194 - o3_loss: 0.0175 - o4_loss: 0.0241 - ofuse_loss: 0.0170 - ofuse_accuracy: 0.9467 - ofuse_dice_coefficient: 0.4020 - val_loss: 0.0718 - val_o1_loss: 0.0197 - val_o2_loss: 0.0128 - val_o3_loss: 0.0119 - val_o4_loss: 0.0161 - val_ofuse_loss: 0.0112 - val_ofuse_accuracy: 0.9602 - val_ofuse_dice_coefficient: 0.3996\n",
      "Epoch 24/50\n",
      "6/7 [========================>.....] - ETA: 7s - loss: 0.1081 - o1_loss: 0.0306 - o2_loss: 0.0193 - o3_loss: 0.0173 - o4_loss: 0.0239 - ofuse_loss: 0.0168 - ofuse_accuracy: 0.9473 - ofuse_dice_coefficient: 0.3999 \n",
      "Epoch 00024: saving model to /Users/mikeskaug/Documents/personal/ridges/output/checkpoint/2020-06-18T21:32/weights.24-0.07.hdf5\n",
      "7/7 [==============================] - 56s 8s/step - loss: 0.1086 - o1_loss: 0.0306 - o2_loss: 0.0194 - o3_loss: 0.0175 - o4_loss: 0.0241 - ofuse_loss: 0.0170 - ofuse_accuracy: 0.9467 - ofuse_dice_coefficient: 0.4027 - val_loss: 0.0716 - val_o1_loss: 0.0196 - val_o2_loss: 0.0128 - val_o3_loss: 0.0118 - val_o4_loss: 0.0161 - val_ofuse_loss: 0.0111 - val_ofuse_accuracy: 0.9604 - val_ofuse_dice_coefficient: 0.4007\n",
      "Epoch 25/50\n",
      "6/7 [========================>.....] - ETA: 7s - loss: 0.1072 - o1_loss: 0.0304 - o2_loss: 0.0192 - o3_loss: 0.0172 - o4_loss: 0.0237 - ofuse_loss: 0.0166 - ofuse_accuracy: 0.9472 - ofuse_dice_coefficient: 0.4010 \n",
      "Epoch 00025: saving model to /Users/mikeskaug/Documents/personal/ridges/output/checkpoint/2020-06-18T21:32/weights.25-0.07.hdf5\n",
      "7/7 [==============================] - 56s 8s/step - loss: 0.1076 - o1_loss: 0.0304 - o2_loss: 0.0192 - o3_loss: 0.0173 - o4_loss: 0.0239 - ofuse_loss: 0.0168 - ofuse_accuracy: 0.9466 - ofuse_dice_coefficient: 0.4039 - val_loss: 0.0717 - val_o1_loss: 0.0197 - val_o2_loss: 0.0128 - val_o3_loss: 0.0119 - val_o4_loss: 0.0161 - val_ofuse_loss: 0.0111 - val_ofuse_accuracy: 0.9604 - val_ofuse_dice_coefficient: 0.4006\n",
      "Epoch 26/50\n",
      "6/7 [========================>.....] - ETA: 7s - loss: 0.1069 - o1_loss: 0.0304 - o2_loss: 0.0192 - o3_loss: 0.0171 - o4_loss: 0.0236 - ofuse_loss: 0.0166 - ofuse_accuracy: 0.9472 - ofuse_dice_coefficient: 0.4011 \n",
      "Epoch 00026: saving model to /Users/mikeskaug/Documents/personal/ridges/output/checkpoint/2020-06-18T21:32/weights.26-0.07.hdf5\n",
      "7/7 [==============================] - 56s 8s/step - loss: 0.1076 - o1_loss: 0.0304 - o2_loss: 0.0193 - o3_loss: 0.0173 - o4_loss: 0.0238 - ofuse_loss: 0.0168 - ofuse_accuracy: 0.9466 - ofuse_dice_coefficient: 0.4036 - val_loss: 0.0715 - val_o1_loss: 0.0196 - val_o2_loss: 0.0127 - val_o3_loss: 0.0118 - val_o4_loss: 0.0161 - val_ofuse_loss: 0.0111 - val_ofuse_accuracy: 0.9610 - val_ofuse_dice_coefficient: 0.4027\n",
      "Epoch 27/50\n",
      "6/7 [========================>.....] - ETA: 7s - loss: 0.1071 - o1_loss: 0.0304 - o2_loss: 0.0192 - o3_loss: 0.0171 - o4_loss: 0.0236 - ofuse_loss: 0.0166 - ofuse_accuracy: 0.9479 - ofuse_dice_coefficient: 0.4036 \n",
      "Epoch 00027: saving model to /Users/mikeskaug/Documents/personal/ridges/output/checkpoint/2020-06-18T21:32/weights.27-0.07.hdf5\n",
      "7/7 [==============================] - 56s 8s/step - loss: 0.1075 - o1_loss: 0.0304 - o2_loss: 0.0192 - o3_loss: 0.0172 - o4_loss: 0.0238 - ofuse_loss: 0.0168 - ofuse_accuracy: 0.9473 - ofuse_dice_coefficient: 0.4061 - val_loss: 0.0714 - val_o1_loss: 0.0196 - val_o2_loss: 0.0127 - val_o3_loss: 0.0118 - val_o4_loss: 0.0161 - val_ofuse_loss: 0.0111 - val_ofuse_accuracy: 0.9612 - val_ofuse_dice_coefficient: 0.4037\n",
      "Epoch 28/50\n",
      "6/7 [========================>.....] - ETA: 7s - loss: 0.1066 - o1_loss: 0.0305 - o2_loss: 0.0191 - o3_loss: 0.0169 - o4_loss: 0.0234 - ofuse_loss: 0.0165 - ofuse_accuracy: 0.9479 - ofuse_dice_coefficient: 0.4048 \n",
      "Epoch 00028: saving model to /Users/mikeskaug/Documents/personal/ridges/output/checkpoint/2020-06-18T21:32/weights.28-0.07.hdf5\n",
      "7/7 [==============================] - 56s 8s/step - loss: 0.1071 - o1_loss: 0.0304 - o2_loss: 0.0192 - o3_loss: 0.0171 - o4_loss: 0.0237 - ofuse_loss: 0.0166 - ofuse_accuracy: 0.9473 - ofuse_dice_coefficient: 0.4072 - val_loss: 0.0713 - val_o1_loss: 0.0195 - val_o2_loss: 0.0127 - val_o3_loss: 0.0119 - val_o4_loss: 0.0161 - val_ofuse_loss: 0.0111 - val_ofuse_accuracy: 0.9611 - val_ofuse_dice_coefficient: 0.4038\n",
      "Epoch 29/50\n",
      "6/7 [========================>.....] - ETA: 7s - loss: 0.1065 - o1_loss: 0.0305 - o2_loss: 0.0191 - o3_loss: 0.0170 - o4_loss: 0.0234 - ofuse_loss: 0.0165 - ofuse_accuracy: 0.9476 - ofuse_dice_coefficient: 0.4039 \n",
      "Epoch 00029: saving model to /Users/mikeskaug/Documents/personal/ridges/output/checkpoint/2020-06-18T21:32/weights.29-0.07.hdf5\n",
      "7/7 [==============================] - 56s 8s/step - loss: 0.1069 - o1_loss: 0.0304 - o2_loss: 0.0192 - o3_loss: 0.0171 - o4_loss: 0.0236 - ofuse_loss: 0.0166 - ofuse_accuracy: 0.9468 - ofuse_dice_coefficient: 0.4060 - val_loss: 0.0713 - val_o1_loss: 0.0195 - val_o2_loss: 0.0127 - val_o3_loss: 0.0119 - val_o4_loss: 0.0161 - val_ofuse_loss: 0.0111 - val_ofuse_accuracy: 0.9614 - val_ofuse_dice_coefficient: 0.4052\n",
      "Epoch 30/50\n",
      "6/7 [========================>.....] - ETA: 7s - loss: 0.1060 - o1_loss: 0.0305 - o2_loss: 0.0190 - o3_loss: 0.0168 - o4_loss: 0.0232 - ofuse_loss: 0.0163 - ofuse_accuracy: 0.9480 - ofuse_dice_coefficient: 0.4060 \n",
      "Epoch 00030: saving model to /Users/mikeskaug/Documents/personal/ridges/output/checkpoint/2020-06-18T21:32/weights.30-0.07.hdf5\n",
      "7/7 [==============================] - 56s 8s/step - loss: 0.1064 - o1_loss: 0.0304 - o2_loss: 0.0191 - o3_loss: 0.0170 - o4_loss: 0.0234 - ofuse_loss: 0.0165 - ofuse_accuracy: 0.9473 - ofuse_dice_coefficient: 0.4084 - val_loss: 0.0714 - val_o1_loss: 0.0195 - val_o2_loss: 0.0127 - val_o3_loss: 0.0119 - val_o4_loss: 0.0162 - val_ofuse_loss: 0.0111 - val_ofuse_accuracy: 0.9621 - val_ofuse_dice_coefficient: 0.4071\n",
      "Epoch 31/50\n",
      "6/7 [========================>.....] - ETA: 7s - loss: 0.1059 - o1_loss: 0.0304 - o2_loss: 0.0190 - o3_loss: 0.0169 - o4_loss: 0.0233 - ofuse_loss: 0.0163 - ofuse_accuracy: 0.9485 - ofuse_dice_coefficient: 0.4062 \n",
      "Epoch 00031: saving model to /Users/mikeskaug/Documents/personal/ridges/output/checkpoint/2020-06-18T21:32/weights.31-0.07.hdf5\n",
      "7/7 [==============================] - 56s 8s/step - loss: 0.1063 - o1_loss: 0.0303 - o2_loss: 0.0191 - o3_loss: 0.0170 - o4_loss: 0.0235 - ofuse_loss: 0.0164 - ofuse_accuracy: 0.9479 - ofuse_dice_coefficient: 0.4089 - val_loss: 0.0713 - val_o1_loss: 0.0195 - val_o2_loss: 0.0126 - val_o3_loss: 0.0119 - val_o4_loss: 0.0162 - val_ofuse_loss: 0.0110 - val_ofuse_accuracy: 0.9625 - val_ofuse_dice_coefficient: 0.4083\n",
      "Epoch 32/50\n",
      "6/7 [========================>.....] - ETA: 6s - loss: 0.1054 - o1_loss: 0.0304 - o2_loss: 0.0189 - o3_loss: 0.0167 - o4_loss: 0.0230 - ofuse_loss: 0.0162 - ofuse_accuracy: 0.9487 - ofuse_dice_coefficient: 0.4087 \n",
      "Epoch 00032: saving model to /Users/mikeskaug/Documents/personal/ridges/output/checkpoint/2020-06-18T21:32/weights.32-0.07.hdf5\n",
      "7/7 [==============================] - 55s 8s/step - loss: 0.1059 - o1_loss: 0.0303 - o2_loss: 0.0190 - o3_loss: 0.0169 - o4_loss: 0.0232 - ofuse_loss: 0.0164 - ofuse_accuracy: 0.9481 - ofuse_dice_coefficient: 0.4111 - val_loss: 0.0713 - val_o1_loss: 0.0195 - val_o2_loss: 0.0126 - val_o3_loss: 0.0119 - val_o4_loss: 0.0162 - val_ofuse_loss: 0.0110 - val_ofuse_accuracy: 0.9626 - val_ofuse_dice_coefficient: 0.4092\n",
      "Epoch 33/50\n",
      "6/7 [========================>.....] - ETA: 6s - loss: 0.1054 - o1_loss: 0.0304 - o2_loss: 0.0190 - o3_loss: 0.0167 - o4_loss: 0.0230 - ofuse_loss: 0.0162 - ofuse_accuracy: 0.9484 - ofuse_dice_coefficient: 0.4083 \n",
      "Epoch 00033: saving model to /Users/mikeskaug/Documents/personal/ridges/output/checkpoint/2020-06-18T21:32/weights.33-0.07.hdf5\n",
      "7/7 [==============================] - 55s 8s/step - loss: 0.1059 - o1_loss: 0.0303 - o2_loss: 0.0190 - o3_loss: 0.0169 - o4_loss: 0.0232 - ofuse_loss: 0.0164 - ofuse_accuracy: 0.9478 - ofuse_dice_coefficient: 0.4107 - val_loss: 0.0712 - val_o1_loss: 0.0195 - val_o2_loss: 0.0125 - val_o3_loss: 0.0119 - val_o4_loss: 0.0162 - val_ofuse_loss: 0.0110 - val_ofuse_accuracy: 0.9627 - val_ofuse_dice_coefficient: 0.4106\n",
      "Epoch 34/50\n",
      "6/7 [========================>.....] - ETA: 6s - loss: 0.1048 - o1_loss: 0.0303 - o2_loss: 0.0189 - o3_loss: 0.0166 - o4_loss: 0.0229 - ofuse_loss: 0.0161 - ofuse_accuracy: 0.9482 - ofuse_dice_coefficient: 0.4086 \n",
      "Epoch 00034: saving model to /Users/mikeskaug/Documents/personal/ridges/output/checkpoint/2020-06-18T21:32/weights.34-0.07.hdf5\n",
      "7/7 [==============================] - 55s 8s/step - loss: 0.1053 - o1_loss: 0.0303 - o2_loss: 0.0190 - o3_loss: 0.0167 - o4_loss: 0.0231 - ofuse_loss: 0.0162 - ofuse_accuracy: 0.9477 - ofuse_dice_coefficient: 0.4113 - val_loss: 0.0715 - val_o1_loss: 0.0195 - val_o2_loss: 0.0126 - val_o3_loss: 0.0119 - val_o4_loss: 0.0163 - val_ofuse_loss: 0.0111 - val_ofuse_accuracy: 0.9630 - val_ofuse_dice_coefficient: 0.4106\n",
      "Epoch 35/50\n",
      "6/7 [========================>.....] - ETA: 6s - loss: 0.1047 - o1_loss: 0.0303 - o2_loss: 0.0189 - o3_loss: 0.0166 - o4_loss: 0.0228 - ofuse_loss: 0.0160 - ofuse_accuracy: 0.9494 - ofuse_dice_coefficient: 0.4123 \n",
      "Epoch 00035: saving model to /Users/mikeskaug/Documents/personal/ridges/output/checkpoint/2020-06-18T21:32/weights.35-0.07.hdf5\n",
      "7/7 [==============================] - 55s 8s/step - loss: 0.1052 - o1_loss: 0.0302 - o2_loss: 0.0189 - o3_loss: 0.0167 - o4_loss: 0.0230 - ofuse_loss: 0.0162 - ofuse_accuracy: 0.9488 - ofuse_dice_coefficient: 0.4147 - val_loss: 0.0713 - val_o1_loss: 0.0195 - val_o2_loss: 0.0125 - val_o3_loss: 0.0119 - val_o4_loss: 0.0163 - val_ofuse_loss: 0.0110 - val_ofuse_accuracy: 0.9632 - val_ofuse_dice_coefficient: 0.4119\n",
      "Epoch 36/50\n",
      "6/7 [========================>.....] - ETA: 6s - loss: 0.1045 - o1_loss: 0.0302 - o2_loss: 0.0188 - o3_loss: 0.0165 - o4_loss: 0.0228 - ofuse_loss: 0.0160 - ofuse_accuracy: 0.9490 - ofuse_dice_coefficient: 0.4110 \n",
      "Epoch 00036: saving model to /Users/mikeskaug/Documents/personal/ridges/output/checkpoint/2020-06-18T21:32/weights.36-0.07.hdf5\n",
      "7/7 [==============================] - 55s 8s/step - loss: 0.1049 - o1_loss: 0.0302 - o2_loss: 0.0189 - o3_loss: 0.0167 - o4_loss: 0.0230 - ofuse_loss: 0.0161 - ofuse_accuracy: 0.9484 - ofuse_dice_coefficient: 0.4136 - val_loss: 0.0712 - val_o1_loss: 0.0193 - val_o2_loss: 0.0125 - val_o3_loss: 0.0119 - val_o4_loss: 0.0163 - val_ofuse_loss: 0.0110 - val_ofuse_accuracy: 0.9632 - val_ofuse_dice_coefficient: 0.4127\n",
      "Epoch 37/50\n",
      "6/7 [========================>.....] - ETA: 6s - loss: 0.1038 - o1_loss: 0.0302 - o2_loss: 0.0187 - o3_loss: 0.0164 - o4_loss: 0.0226 - ofuse_loss: 0.0158 - ofuse_accuracy: 0.9492 - ofuse_dice_coefficient: 0.4131 \n",
      "Epoch 00037: saving model to /Users/mikeskaug/Documents/personal/ridges/output/checkpoint/2020-06-18T21:32/weights.37-0.07.hdf5\n",
      "7/7 [==============================] - 55s 8s/step - loss: 0.1044 - o1_loss: 0.0301 - o2_loss: 0.0188 - o3_loss: 0.0166 - o4_loss: 0.0228 - ofuse_loss: 0.0160 - ofuse_accuracy: 0.9484 - ofuse_dice_coefficient: 0.4149 - val_loss: 0.0711 - val_o1_loss: 0.0193 - val_o2_loss: 0.0124 - val_o3_loss: 0.0119 - val_o4_loss: 0.0163 - val_ofuse_loss: 0.0110 - val_ofuse_accuracy: 0.9639 - val_ofuse_dice_coefficient: 0.4153\n",
      "Epoch 38/50\n",
      "6/7 [========================>.....] - ETA: 6s - loss: 0.1039 - o1_loss: 0.0302 - o2_loss: 0.0187 - o3_loss: 0.0164 - o4_loss: 0.0226 - ofuse_loss: 0.0159 - ofuse_accuracy: 0.9499 - ofuse_dice_coefficient: 0.4152 \n",
      "Epoch 00038: saving model to /Users/mikeskaug/Documents/personal/ridges/output/checkpoint/2020-06-18T21:32/weights.38-0.07.hdf5\n",
      "7/7 [==============================] - 55s 8s/step - loss: 0.1043 - o1_loss: 0.0302 - o2_loss: 0.0188 - o3_loss: 0.0165 - o4_loss: 0.0228 - ofuse_loss: 0.0160 - ofuse_accuracy: 0.9492 - ofuse_dice_coefficient: 0.4174 - val_loss: 0.0713 - val_o1_loss: 0.0194 - val_o2_loss: 0.0124 - val_o3_loss: 0.0120 - val_o4_loss: 0.0164 - val_ofuse_loss: 0.0110 - val_ofuse_accuracy: 0.9643 - val_ofuse_dice_coefficient: 0.4172\n",
      "Epoch 39/50\n",
      "6/7 [========================>.....] - ETA: 6s - loss: 0.1039 - o1_loss: 0.0303 - o2_loss: 0.0187 - o3_loss: 0.0164 - o4_loss: 0.0225 - ofuse_loss: 0.0158 - ofuse_accuracy: 0.9492 - ofuse_dice_coefficient: 0.4138 \n",
      "Epoch 00039: saving model to /Users/mikeskaug/Documents/personal/ridges/output/checkpoint/2020-06-18T21:32/weights.39-0.07.hdf5\n",
      "7/7 [==============================] - 55s 8s/step - loss: 0.1043 - o1_loss: 0.0302 - o2_loss: 0.0188 - o3_loss: 0.0166 - o4_loss: 0.0227 - ofuse_loss: 0.0160 - ofuse_accuracy: 0.9484 - ofuse_dice_coefficient: 0.4160 - val_loss: 0.0713 - val_o1_loss: 0.0194 - val_o2_loss: 0.0124 - val_o3_loss: 0.0120 - val_o4_loss: 0.0164 - val_ofuse_loss: 0.0110 - val_ofuse_accuracy: 0.9645 - val_ofuse_dice_coefficient: 0.4182\n",
      "Epoch 40/50\n",
      "6/7 [========================>.....] - ETA: 6s - loss: 0.1034 - o1_loss: 0.0302 - o2_loss: 0.0187 - o3_loss: 0.0163 - o4_loss: 0.0224 - ofuse_loss: 0.0157 - ofuse_accuracy: 0.9496 - ofuse_dice_coefficient: 0.4150 \n",
      "Epoch 00040: saving model to /Users/mikeskaug/Documents/personal/ridges/output/checkpoint/2020-06-18T21:32/weights.40-0.07.hdf5\n",
      "7/7 [==============================] - 55s 8s/step - loss: 0.1040 - o1_loss: 0.0302 - o2_loss: 0.0188 - o3_loss: 0.0165 - o4_loss: 0.0226 - ofuse_loss: 0.0159 - ofuse_accuracy: 0.9488 - ofuse_dice_coefficient: 0.4168 - val_loss: 0.0713 - val_o1_loss: 0.0194 - val_o2_loss: 0.0124 - val_o3_loss: 0.0120 - val_o4_loss: 0.0164 - val_ofuse_loss: 0.0110 - val_ofuse_accuracy: 0.9647 - val_ofuse_dice_coefficient: 0.4181\n",
      "Epoch 41/50\n",
      "6/7 [========================>.....] - ETA: 6s - loss: 0.1035 - o1_loss: 0.0303 - o2_loss: 0.0187 - o3_loss: 0.0164 - o4_loss: 0.0224 - ofuse_loss: 0.0157 - ofuse_accuracy: 0.9498 - ofuse_dice_coefficient: 0.4164 \n",
      "Epoch 00041: saving model to /Users/mikeskaug/Documents/personal/ridges/output/checkpoint/2020-06-18T21:32/weights.41-0.07.hdf5\n",
      "7/7 [==============================] - 55s 8s/step - loss: 0.1040 - o1_loss: 0.0302 - o2_loss: 0.0188 - o3_loss: 0.0165 - o4_loss: 0.0226 - ofuse_loss: 0.0159 - ofuse_accuracy: 0.9491 - ofuse_dice_coefficient: 0.4182 - val_loss: 0.0713 - val_o1_loss: 0.0193 - val_o2_loss: 0.0124 - val_o3_loss: 0.0120 - val_o4_loss: 0.0166 - val_ofuse_loss: 0.0110 - val_ofuse_accuracy: 0.9648 - val_ofuse_dice_coefficient: 0.4200\n",
      "Epoch 42/50\n",
      "6/7 [========================>.....] - ETA: 6s - loss: 0.1029 - o1_loss: 0.0302 - o2_loss: 0.0186 - o3_loss: 0.0162 - o4_loss: 0.0222 - ofuse_loss: 0.0156 - ofuse_accuracy: 0.9495 - ofuse_dice_coefficient: 0.4162 \n",
      "Epoch 00042: saving model to /Users/mikeskaug/Documents/personal/ridges/output/checkpoint/2020-06-18T21:32/weights.42-0.07.hdf5\n",
      "7/7 [==============================] - 55s 8s/step - loss: 0.1035 - o1_loss: 0.0301 - o2_loss: 0.0187 - o3_loss: 0.0164 - o4_loss: 0.0224 - ofuse_loss: 0.0157 - ofuse_accuracy: 0.9489 - ofuse_dice_coefficient: 0.4183 - val_loss: 0.0715 - val_o1_loss: 0.0193 - val_o2_loss: 0.0124 - val_o3_loss: 0.0121 - val_o4_loss: 0.0166 - val_ofuse_loss: 0.0111 - val_ofuse_accuracy: 0.9650 - val_ofuse_dice_coefficient: 0.4214\n",
      "Epoch 43/50\n",
      "6/7 [========================>.....] - ETA: 6s - loss: 0.1030 - o1_loss: 0.0303 - o2_loss: 0.0186 - o3_loss: 0.0162 - o4_loss: 0.0222 - ofuse_loss: 0.0156 - ofuse_accuracy: 0.9500 - ofuse_dice_coefficient: 0.4175 \n",
      "Epoch 00043: saving model to /Users/mikeskaug/Documents/personal/ridges/output/checkpoint/2020-06-18T21:32/weights.43-0.07.hdf5\n",
      "7/7 [==============================] - 55s 8s/step - loss: 0.1035 - o1_loss: 0.0302 - o2_loss: 0.0187 - o3_loss: 0.0164 - o4_loss: 0.0224 - ofuse_loss: 0.0157 - ofuse_accuracy: 0.9494 - ofuse_dice_coefficient: 0.4201 - val_loss: 0.0718 - val_o1_loss: 0.0193 - val_o2_loss: 0.0124 - val_o3_loss: 0.0121 - val_o4_loss: 0.0168 - val_ofuse_loss: 0.0111 - val_ofuse_accuracy: 0.9653 - val_ofuse_dice_coefficient: 0.4225\n",
      "Epoch 44/50\n",
      "6/7 [========================>.....] - ETA: 6s - loss: 0.1022 - o1_loss: 0.0301 - o2_loss: 0.0185 - o3_loss: 0.0161 - o4_loss: 0.0220 - ofuse_loss: 0.0154 - ofuse_accuracy: 0.9503 - ofuse_dice_coefficient: 0.4194 \n",
      "Epoch 00044: saving model to /Users/mikeskaug/Documents/personal/ridges/output/checkpoint/2020-06-18T21:32/weights.44-0.07.hdf5\n",
      "7/7 [==============================] - 55s 8s/step - loss: 0.1028 - o1_loss: 0.0300 - o2_loss: 0.0186 - o3_loss: 0.0162 - o4_loss: 0.0222 - ofuse_loss: 0.0156 - ofuse_accuracy: 0.9498 - ofuse_dice_coefficient: 0.4219 - val_loss: 0.0717 - val_o1_loss: 0.0193 - val_o2_loss: 0.0124 - val_o3_loss: 0.0121 - val_o4_loss: 0.0168 - val_ofuse_loss: 0.0111 - val_ofuse_accuracy: 0.9654 - val_ofuse_dice_coefficient: 0.4239\n",
      "Epoch 45/50\n",
      "6/7 [========================>.....] - ETA: 6s - loss: 0.1022 - o1_loss: 0.0302 - o2_loss: 0.0186 - o3_loss: 0.0160 - o4_loss: 0.0219 - ofuse_loss: 0.0154 - ofuse_accuracy: 0.9506 - ofuse_dice_coefficient: 0.4209 \n",
      "Epoch 00045: saving model to /Users/mikeskaug/Documents/personal/ridges/output/checkpoint/2020-06-18T21:32/weights.45-0.07.hdf5\n",
      "7/7 [==============================] - 55s 8s/step - loss: 0.1027 - o1_loss: 0.0301 - o2_loss: 0.0186 - o3_loss: 0.0162 - o4_loss: 0.0221 - ofuse_loss: 0.0155 - ofuse_accuracy: 0.9498 - ofuse_dice_coefficient: 0.4228 - val_loss: 0.0718 - val_o1_loss: 0.0192 - val_o2_loss: 0.0124 - val_o3_loss: 0.0121 - val_o4_loss: 0.0169 - val_ofuse_loss: 0.0111 - val_ofuse_accuracy: 0.9655 - val_ofuse_dice_coefficient: 0.4246\n",
      "Epoch 46/50\n",
      "6/7 [========================>.....] - ETA: 6s - loss: 0.1024 - o1_loss: 0.0302 - o2_loss: 0.0186 - o3_loss: 0.0161 - o4_loss: 0.0219 - ofuse_loss: 0.0154 - ofuse_accuracy: 0.9504 - ofuse_dice_coefficient: 0.4202 \n",
      "Epoch 00046: saving model to /Users/mikeskaug/Documents/personal/ridges/output/checkpoint/2020-06-18T21:32/weights.46-0.07.hdf5\n",
      "7/7 [==============================] - 55s 8s/step - loss: 0.1029 - o1_loss: 0.0301 - o2_loss: 0.0187 - o3_loss: 0.0162 - o4_loss: 0.0222 - ofuse_loss: 0.0156 - ofuse_accuracy: 0.9496 - ofuse_dice_coefficient: 0.4223 - val_loss: 0.0720 - val_o1_loss: 0.0192 - val_o2_loss: 0.0124 - val_o3_loss: 0.0122 - val_o4_loss: 0.0169 - val_ofuse_loss: 0.0111 - val_ofuse_accuracy: 0.9656 - val_ofuse_dice_coefficient: 0.4247\n",
      "Epoch 47/50\n",
      "6/7 [========================>.....] - ETA: 6s - loss: 0.1019 - o1_loss: 0.0302 - o2_loss: 0.0185 - o3_loss: 0.0160 - o4_loss: 0.0218 - ofuse_loss: 0.0153 - ofuse_accuracy: 0.9509 - ofuse_dice_coefficient: 0.4234 \n",
      "Epoch 00047: saving model to /Users/mikeskaug/Documents/personal/ridges/output/checkpoint/2020-06-18T21:32/weights.47-0.07.hdf5\n",
      "7/7 [==============================] - 55s 8s/step - loss: 0.1024 - o1_loss: 0.0301 - o2_loss: 0.0186 - o3_loss: 0.0161 - o4_loss: 0.0220 - ofuse_loss: 0.0155 - ofuse_accuracy: 0.9502 - ofuse_dice_coefficient: 0.4253 - val_loss: 0.0721 - val_o1_loss: 0.0193 - val_o2_loss: 0.0123 - val_o3_loss: 0.0122 - val_o4_loss: 0.0170 - val_ofuse_loss: 0.0111 - val_ofuse_accuracy: 0.9659 - val_ofuse_dice_coefficient: 0.4259\n",
      "Epoch 48/50\n",
      "6/7 [========================>.....] - ETA: 6s - loss: 0.1019 - o1_loss: 0.0302 - o2_loss: 0.0185 - o3_loss: 0.0160 - o4_loss: 0.0218 - ofuse_loss: 0.0153 - ofuse_accuracy: 0.9506 - ofuse_dice_coefficient: 0.4219 \n",
      "Epoch 00048: saving model to /Users/mikeskaug/Documents/personal/ridges/output/checkpoint/2020-06-18T21:32/weights.48-0.07.hdf5\n",
      "7/7 [==============================] - 55s 8s/step - loss: 0.1023 - o1_loss: 0.0301 - o2_loss: 0.0186 - o3_loss: 0.0161 - o4_loss: 0.0220 - ofuse_loss: 0.0154 - ofuse_accuracy: 0.9499 - ofuse_dice_coefficient: 0.4242 - val_loss: 0.0720 - val_o1_loss: 0.0193 - val_o2_loss: 0.0123 - val_o3_loss: 0.0122 - val_o4_loss: 0.0171 - val_ofuse_loss: 0.0111 - val_ofuse_accuracy: 0.9661 - val_ofuse_dice_coefficient: 0.4271\n",
      "Epoch 49/50\n",
      "6/7 [========================>.....] - ETA: 6s - loss: 0.1013 - o1_loss: 0.0301 - o2_loss: 0.0184 - o3_loss: 0.0159 - o4_loss: 0.0216 - ofuse_loss: 0.0152 - ofuse_accuracy: 0.9508 - ofuse_dice_coefficient: 0.4243 \n",
      "Epoch 00049: saving model to /Users/mikeskaug/Documents/personal/ridges/output/checkpoint/2020-06-18T21:32/weights.49-0.07.hdf5\n",
      "7/7 [==============================] - 55s 8s/step - loss: 0.1018 - o1_loss: 0.0300 - o2_loss: 0.0185 - o3_loss: 0.0160 - o4_loss: 0.0219 - ofuse_loss: 0.0153 - ofuse_accuracy: 0.9503 - ofuse_dice_coefficient: 0.4267 - val_loss: 0.0723 - val_o1_loss: 0.0192 - val_o2_loss: 0.0123 - val_o3_loss: 0.0122 - val_o4_loss: 0.0172 - val_ofuse_loss: 0.0112 - val_ofuse_accuracy: 0.9663 - val_ofuse_dice_coefficient: 0.4284\n",
      "Epoch 50/50\n",
      "6/7 [========================>.....] - ETA: 6s - loss: 0.1009 - o1_loss: 0.0300 - o2_loss: 0.0184 - o3_loss: 0.0158 - o4_loss: 0.0215 - ofuse_loss: 0.0150 - ofuse_accuracy: 0.9513 - ofuse_dice_coefficient: 0.4271 \n",
      "Epoch 00050: saving model to /Users/mikeskaug/Documents/personal/ridges/output/checkpoint/2020-06-18T21:32/weights.50-0.07.hdf5\n",
      "7/7 [==============================] - 55s 8s/step - loss: 0.1015 - o1_loss: 0.0300 - o2_loss: 0.0185 - o3_loss: 0.0160 - o4_loss: 0.0218 - ofuse_loss: 0.0152 - ofuse_accuracy: 0.9505 - ofuse_dice_coefficient: 0.4284 - val_loss: 0.0724 - val_o1_loss: 0.0192 - val_o2_loss: 0.0123 - val_o3_loss: 0.0122 - val_o4_loss: 0.0173 - val_ofuse_loss: 0.0112 - val_ofuse_accuracy: 0.9665 - val_ofuse_dice_coefficient: 0.4292\n"
     ]
    }
   ],
   "source": [
    "training_history = model.fit(\n",
    "    training_generator,\n",
    "    steps_per_epoch=len(training_generator),\n",
    "    epochs=50,\n",
    "    callbacks=compile_callbacks(),\n",
    "    shuffle=False,\n",
    "    validation_data=validation_data\n",
    ")"
   ]
  },
  {
   "cell_type": "markdown",
   "metadata": {},
   "source": [
    "# Evaluate"
   ]
  },
  {
   "cell_type": "code",
   "execution_count": 31,
   "metadata": {},
   "outputs": [],
   "source": [
    "predict_batch = validation_data[0]\n",
    "masks = validation_data[1][0]\n",
    "predictions = model.predict_on_batch(predict_batch)"
   ]
  },
  {
   "cell_type": "code",
   "execution_count": 46,
   "metadata": {},
   "outputs": [
    {
     "name": "stdout",
     "output_type": "stream",
     "text": [
      "float64 <dtype: 'float64'>\n",
      "IOU: 0.0035934981192907037\n"
     ]
    }
   ],
   "source": [
    "x = iou(masks, tf.cast(predictions[-1] > 0.987, tf.float64))\n",
    "print(f'IOU: {x}')"
   ]
  },
  {
   "cell_type": "code",
   "execution_count": 55,
   "metadata": {},
   "outputs": [
    {
     "name": "stdout",
     "output_type": "stream",
     "text": [
      "Best threshold: 0.8061224489795917, IOU: 0.39001388017416766\n"
     ]
    },
    {
     "data": {
      "image/png": "[encoded data removed]",
      "text/plain": [
       "<Figure size 432x288 with 1 Axes>"
      ]
     },
     "metadata": {
      "needs_background": "light"
     },
     "output_type": "display_data"
    }
   ],
   "source": [
    "thresholds = np.linspace(0.5, 1)\n",
    "iou_vals = [iou(masks, tf.cast(predictions[-1] > thresh, tf.float64)).numpy() for thresh in thresholds]\n",
    "sns.lineplot(thresholds, iou_vals)\n",
    "print(f'Best threshold: {thresholds[np.argmax(iou_vals)]}, IOU: {max(iou_vals)}')"
   ]
  },
  {
   "cell_type": "markdown",
   "metadata": {},
   "source": [
    "# Evaluate heuristic model"
   ]
  },
  {
   "cell_type": "code",
   "execution_count": 56,
   "metadata": {},
   "outputs": [],
   "source": [
    "from src.transforms import ridges"
   ]
  },
  {
   "cell_type": "code",
   "execution_count": 73,
   "metadata": {},
   "outputs": [],
   "source": [
    "generator = CustomImageDataGenerator(\n",
    "    ELEVATION_TIF_DIR, \n",
    "    MASK_TIF_DIR, \n",
    "    validation_files, \n",
    "    batch_size=len(validation_files)*8, \n",
    "    rescale_y=1/255,\n",
    "    n_outputs=1\n",
    ")\n",
    "test_data = generator.__getitem__(0)"
   ]
  },
  {
   "cell_type": "code",
   "execution_count": 74,
   "metadata": {},
   "outputs": [],
   "source": [
    "heuristic_pred = np.zeros(test_data[0].shape[:-1])\n",
    "for sample_id in range(test_data[0].shape[0]):\n",
    "    heuristic_pred[sample_id] = ridges(np.squeeze(test_data[0][sample_id])).astype(float)"
   ]
  },
  {
   "cell_type": "code",
   "execution_count": 75,
   "metadata": {},
   "outputs": [
    {
     "data": {
      "text/plain": [
       "<tf.Tensor: id=56990, shape=(), dtype=float64, numpy=0.961944580078125>"
      ]
     },
     "execution_count": 75,
     "metadata": {},
     "output_type": "execute_result"
    }
   ],
   "source": [
    "accuracy(masks, heuristic_pred[:, :, :, np.newaxis])"
   ]
  },
  {
   "cell_type": "code",
   "execution_count": 76,
   "metadata": {},
   "outputs": [
    {
     "name": "stdout",
     "output_type": "stream",
     "text": [
      "IOU: 0.30709390627894056\n"
     ]
    }
   ],
   "source": [
    "x = iou(masks, heuristic_pred[:, :, :, np.newaxis])\n",
    "print(f'IOU: {x}')"
   ]
  },
  {
   "cell_type": "markdown",
   "metadata": {},
   "source": [
    "# Compare examples"
   ]
  },
  {
   "cell_type": "code",
   "execution_count": 77,
   "metadata": {},
   "outputs": [
    {
     "data": {
      "image/png": "[encoded data removed]",
      "text/plain": [
       "<Figure size 1296x1080 with 30 Axes>"
      ]
     },
     "metadata": {
      "needs_background": "light"
     },
     "output_type": "display_data"
    }
   ],
   "source": [
    "all_images = np.empty((30,256,256), dtype='float32')\n",
    "all_images[0::3,:,:] = np.squeeze(masks[:10])\n",
    "all_images[1::3,:,:] = heuristic_pred[:10]\n",
    "all_images[2::3,:,:] = np.squeeze(predictions[-1][:10]) > 0.806\n",
    "\n",
    "grid_width = 6\n",
    "grid_height = int(all_images.shape[0] / grid_width)\n",
    "fig, axs = plt.subplots(grid_height, grid_width, figsize=(18, 15))\n",
    "for i in range(grid_height*grid_width):\n",
    "    ax = axs[int(i / grid_width), i % grid_width]\n",
    "    ax.imshow((all_images[i, :, :].reshape((256, 256))), cmap='viridis', ) #vmin=0, # coolwarm\n",
    "    ax.set_yticklabels([])\n",
    "    ax.set_xticklabels([])"
   ]
  },
  {
   "cell_type": "code",
   "execution_count": null,
   "metadata": {},
   "outputs": [],
   "source": []
  }
 ],
 "metadata": {
  "kernelspec": {
   "display_name": "Python 3",
   "language": "python",
   "name": "python3"
  },
  "language_info": {
   "codemirror_mode": {
    "name": "ipython",
    "version": 3
   },
   "file_extension": ".py",
   "mimetype": "text/x-python",
   "name": "python",
   "nbconvert_exporter": "python",
   "pygments_lexer": "ipython3",
   "version": "3.7.4"
  }
 },
 "nbformat": 4,
 "nbformat_minor": 4
}
