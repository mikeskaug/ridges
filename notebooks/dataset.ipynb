{
 "cells": [
  {
   "cell_type": "markdown",
   "metadata": {},
   "source": [
    "## Copy high ridge subset\n",
    "\n",
    "Create a copy of the training and testing data sets that contain only samples with a ridge fraction above some threshold, like 1% ridge pixels"
   ]
  },
  {
   "cell_type": "code",
   "execution_count": 18,
   "metadata": {},
   "outputs": [],
   "source": [
    "import os\n",
    "import shutil\n",
    "\n",
    "import numpy as np\n",
    "from PIL import Image"
   ]
  },
  {
   "cell_type": "code",
   "execution_count": 13,
   "metadata": {},
   "outputs": [],
   "source": [
    "RIDGE_FRACTION_THRESHOLD = 0.01\n",
    "\n",
    "ELEVATION_TIF_DIR = '../data/terrain/Colorado/train/tif/sub'\n",
    "MASK_TIF_DIR = '../data/terrain/Colorado/train/mask/sub'\n",
    "ELEVATION_PNG_DIR = '../data/terrain/Colorado/train/png/sub'\n",
    "\n",
    "HIGH_RIDGE_ELEVATION_TIF_DIR = '../data/high_ridge_terrain/Colorado/train/tif/sub'\n",
    "HIGH_RIDGE_MASK_TIF_DIR = '../data/high_ridge_terrain/Colorado/train/mask/sub'\n",
    "HIGH_RIDGE_ELEVATION_PNG_DIR = '../data/high_ridge_terrain/Colorado/train/png/sub'"
   ]
  },
  {
   "cell_type": "code",
   "execution_count": 24,
   "metadata": {},
   "outputs": [],
   "source": [
    "for f in os.listdir(MASK_TIF_DIR):\n",
    "    im = Image.open(os.path.join(MASK_TIF_DIR, f))\n",
    "    data = np.array(im)\n",
    "    if (data/256).sum()/256**2 > RIDGE_FRACTION_THRESHOLD:\n",
    "        # copy training example\n",
    "        shutil.copyfile(\n",
    "            os.path.join(MASK_TIF_DIR, f),\n",
    "            os.path.join(HIGH_RIDGE_MASK_TIF_DIR, f)\n",
    "        )\n",
    "        shutil.copyfile(\n",
    "            os.path.join(ELEVATION_TIF_DIR, f),\n",
    "            os.path.join(HIGH_RIDGE_ELEVATION_TIF_DIR, f)\n",
    "        )\n",
    "        shutil.copyfile(\n",
    "            os.path.join(ELEVATION_PNG_DIR, f.replace('.tif', '.png')),\n",
    "            os.path.join(HIGH_RIDGE_ELEVATION_PNG_DIR, f.replace('.tif', '.png'))\n",
    "        )\n",
    "\n",
    "for f in os.listdir(MASK_TIF_DIR.replace('train', 'test')):\n",
    "        # copy test example\n",
    "        shutil.copyfile(\n",
    "            os.path.join(MASK_TIF_DIR.replace('train', 'test'), f),\n",
    "            os.path.join(HIGH_RIDGE_MASK_TIF_DIR.replace('train', 'test'), f)\n",
    "        )\n",
    "        shutil.copyfile(\n",
    "            os.path.join(ELEVATION_TIF_DIR.replace('train', 'test'), f),\n",
    "            os.path.join(HIGH_RIDGE_ELEVATION_TIF_DIR.replace('train', 'test'), f)\n",
    "        )\n",
    "        shutil.copyfile(\n",
    "            os.path.join(ELEVATION_PNG_DIR.replace('train', 'test'), f.replace('.tif', '.png')),\n",
    "            os.path.join(HIGH_RIDGE_ELEVATION_PNG_DIR.replace('train', 'test'), f.replace('.tif', '.png'))\n",
    "        )\n",
    "        "
   ]
  },
  {
   "cell_type": "code",
   "execution_count": null,
   "metadata": {},
   "outputs": [],
   "source": []
  }
 ],
 "metadata": {
  "kernelspec": {
   "display_name": "Python 3",
   "language": "python",
   "name": "python3"
  },
  "language_info": {
   "codemirror_mode": {
    "name": "ipython",
    "version": 3
   },
   "file_extension": ".py",
   "mimetype": "text/x-python",
   "name": "python",
   "nbconvert_exporter": "python",
   "pygments_lexer": "ipython3",
   "version": "3.7.4"
  }
 },
 "nbformat": 4,
 "nbformat_minor": 4
}
